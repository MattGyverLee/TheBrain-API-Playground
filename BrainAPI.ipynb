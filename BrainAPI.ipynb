{
 "cells": [
  {
   "cell_type": "markdown",
   "metadata": {},
   "source": [
    "# TheBrain API Playground\n",
    "This Jupyter Notebook contains a set of cells that interact with TheBrain API. The first cell imports necessary modules and reads in API keys and target brain information from text files. The following cells define functions to interact with the API, including listing brains, scanning brains, listing types and tags, searching for thoughts, and retrieving named items. Each of these functions is demonstrated in a separate cell.\n",
    "\n",
    "This Version of the playground only supports read-only \"get\" calls."
   ]
  },
  {
   "cell_type": "code",
   "execution_count": 70,
   "metadata": {},
   "outputs": [
    {
     "name": "stdout",
     "output_type": "stream",
     "text": [
      "API Key Imported. Not shown for security reasons\n",
      "Target Brain: 1c9d0bdb-8e55-43b2-ac53-959e4c2c8864\n"
     ]
    }
   ],
   "source": [
    "import os\n",
    "import requests\n",
    "\n",
    "api_path = 'APIKey.txt'\n",
    " # The following ID is a read-only public brain for testing. The Bard.\n",
    " # Only read-only calls will work on TheBard\n",
    " # Change this or add a text file called \n",
    " # `target.txt` that just contains the ID of your brain.\n",
    "target_brain='1c9d0bdb-8e55-43b2-ac53-959e4c2c8864'\n",
    " # This code doesn't contain my API key. :) Either add your API key below or \n",
    " # create a file called `APIKey.txt` that just contains the key.\n",
    "apiKey = \"\"\n",
    "homeThought = \"\"\n",
    "\n",
    "try:\n",
    "    # Check whether the file exists\n",
    "    if os.path.exists(api_path):\n",
    "        # Open the file as f\n",
    "        # Don't forget 'r' - read mode\n",
    "        with open(api_path, 'r') as file:\n",
    "            # Read the contents of the file into a string variable\n",
    "            apiKey = file.read()\n",
    "        print('API Key Imported. Not shown for security reasons')\n",
    "    else:\n",
    "        print('APIKey.txt does not exist. Please create it and add your API key.')\n",
    "except:\n",
    "    print('Failed to get an API key, please create APIKey.txt in your folder.')\n",
    "    \n",
    "\n",
    "# I have a text file with my main target brain. This reads this in and sets the target_Brain.\n",
    "try:\n",
    "    if os.path.exists('target.txt'):\n",
    "        with open( 'target.txt', 'r') as file:\n",
    "            # Read the contents of the file into a string variable\n",
    "            target_brain = file.read()\n",
    "finally:\n",
    "    print('Target Brain: ' + target_brain)\n",
    "\n",
    "# Define the request parameters\n",
    "baseUrl = \"https://api.bra.in/\"\n",
    "headers = {\"Content-Type\": \"application/json\", 'Authorization': f'Bearer {apiKey}', 'Krang-Version': '2020-06-10'}\n",
    "homeThought = ''"
   ]
  },
  {
   "cell_type": "code",
   "execution_count": 71,
   "metadata": {},
   "outputs": [],
   "source": [
    "\n",
    "from urllib.parse import quote\n",
    "\n",
    "# This is the main \"switchboard\" get function.\n",
    "def get(type,data=None, search=\"\", results=30, target=homeThought, nameOnly=True):\n",
    "    addURL = \"\"\n",
    "    search = quote(search)\n",
    "    \"\"\"Send a get request to the API\"\"\"\n",
    "    if type == \"brainscan\":\n",
    "        print(\"You chose option Brainscan.\")\n",
    "        addURL = f\"brains/{target_brain}\"\n",
    "    elif type == \"brainlist\":\n",
    "        print(\"You chose option Brainlist.\")\n",
    "        addURL = \"brains\"\n",
    "    elif type == \"types\":\n",
    "        addURL = f'thoughts/{target_brain}/types'\n",
    "        print(\"You chose types.\")\n",
    "    elif type == \"tags\":\n",
    "        addURL = f'thoughts/{target_brain}/tags'\n",
    "        print(\"You chose types.\")\n",
    "    elif type == \"search\":\n",
    "        addURL = f'search/{target_brain}?queryText={search}&maxResults={results}&onlySearchThoughtNames={nameOnly}'\n",
    "        print(\"You chose search.\")\n",
    "    elif type == \"graph\":\n",
    "        addURL = f'thoughts/{target_brain}/{target}/graph'\n",
    "        print(\"You chose graph\")\n",
    "    elif type == \"getNamedItem\":\n",
    "        addURL = f'thoughts/{target_brain}?nameExact={search}'\n",
    "        print(\"You chose Get Named Item\")\n",
    "    else:\n",
    "        print(\"Invalid Type.\")\n",
    "    url = baseUrl + addURL\n",
    "    print(url)\n",
    "    return requests.get(url, headers=headers)\n",
    "\n",
    "def process_response(response):\n",
    "    if response.status_code == 200:\n",
    "        print(\"Request was successful\")\n",
    "        # print(response.text)\n",
    "        try:\n",
    "            if response.json()['homeThoughtId']:\n",
    "                homeThought = response.json()['homeThoughtId']\n",
    "                print('Home Thought: '+ homeThought)\n",
    "        finally:\n",
    "            return True\n",
    "    elif response.status_code == 500:\n",
    "        print(\"Request failed with status code:\", response.status_code, ' Either there were no results, or your request was malformed.')\n",
    "        print(response.text)\n",
    "        return False\n",
    "    elif response.status_code == 401:\n",
    "        print(\"Request failed with status code:\", response.status_code, ' There was a problem with your API key.')\n",
    "        print(response.text)\n",
    "        return False\n",
    "    elif response.status_code == 404:\n",
    "        print(\"Request failed with status code:\", response.status_code , \". Please try again later.\")\n",
    "        print(response.text)\n",
    "        return False\n",
    "    else:\n",
    "        print(\"Request failed with status code:\", response.status_code)\n",
    "        return False\n",
    "    \n",
    "\n"
   ]
  },
  {
   "cell_type": "code",
   "execution_count": null,
   "metadata": {},
   "outputs": [],
   "source": [
    "# List Brains\n",
    "\n",
    "response = get(\"brainlist\")\n",
    "if process_response(response):\n",
    "     for hit in response.json():\n",
    "            print(hit)\n",
    "    "
   ]
  },
  {
   "cell_type": "code",
   "execution_count": 72,
   "metadata": {},
   "outputs": [
    {
     "name": "stdout",
     "output_type": "stream",
     "text": [
      "You chose option Brainscan.\n",
      "https://api.bra.in/brains/1c9d0bdb-8e55-43b2-ac53-959e4c2c8864\n",
      "Request was successful\n",
      "Home Thought: af57d1bd-2e52-5c37-9e57-4c85aec40a65\n",
      "{'id': '1c9d0bdb-8e55-43b2-ac53-959e4c2c8864', 'name': 'TheBard', 'homeThoughtId': 'af57d1bd-2e52-5c37-9e57-4c85aec40a65'}\n"
     ]
    }
   ],
   "source": [
    "# BrainScan\n",
    "response = get(\"brainscan\")\n",
    "if process_response(response):\n",
    "    print(response.json())"
   ]
  },
  {
   "cell_type": "code",
   "execution_count": 73,
   "metadata": {},
   "outputs": [
    {
     "name": "stdout",
     "output_type": "stream",
     "text": [
      "You chose types.\n",
      "https://api.bra.in/thoughts/1c9d0bdb-8e55-43b2-ac53-959e4c2c8864/types\n",
      "Request was successful\n",
      "[{'id': '0aebc921-efc6-53af-a2f1-eaa7efd30d9d', 'brainId': '1c9d0bdb-8e55-43b2-ac53-959e4c2c8864', 'creationDateTime': '2009-08-05T18:44:53', 'modificationDateTime': '2019-12-05T21:56:55.0155622', 'name': 'Character', 'cleanedUpName': 'Character', 'linksModificationDateTime': '2009-08-05T18:45:43', 'acType': 0, 'kind': 2, 'label': 'Character'}, {'id': '7e2c83b3-cafb-5ca2-9528-1f0f81e78ba6', 'brainId': '1c9d0bdb-8e55-43b2-ac53-959e4c2c8864', 'creationDateTime': '2009-07-29T23:58:15', 'modificationDateTime': '2020-10-01T17:24:36.8928557', 'name': 'Movie', 'cleanedUpName': 'Movie', 'linksModificationDateTime': '2017-02-23T18:09:04.122', 'acType': 0, 'kind': 2, 'label': 'Movie', 'foregroundColor': '#999900'}, {'id': 'b50bdf33-d4a0-50be-a719-e1ef2ee62c14', 'brainId': '1c9d0bdb-8e55-43b2-ac53-959e4c2c8864', 'creationDateTime': '2009-07-29T21:59:58', 'modificationDateTime': '2020-08-21T22:02:31.5918669', 'name': 'Play', 'cleanedUpName': 'Play', 'linksModificationDateTime': '2009-07-29T22:01:05', 'acType': 0, 'kind': 2, 'label': 'Play', 'foregroundColor': '#333399'}, {'id': '8c1dda5c-0a70-5e1a-a602-4feb00303070', 'brainId': '1c9d0bdb-8e55-43b2-ac53-959e4c2c8864', 'creationDateTime': '2015-08-19T20:34:26', 'modificationDateTime': '2020-10-01T17:24:10.7424746', 'name': 'Sonnet', 'cleanedUpName': 'Sonnet', 'linksModificationDateTime': '2015-08-19T20:34:26', 'acType': 0, 'kind': 2, 'label': 'Sonnet'}]\n"
     ]
    }
   ],
   "source": [
    "# List Types\n",
    "response = get(\"types\")\n",
    "if process_response(response):\n",
    "    print(response.json())\n"
   ]
  },
  {
   "cell_type": "code",
   "execution_count": 74,
   "metadata": {},
   "outputs": [
    {
     "name": "stdout",
     "output_type": "stream",
     "text": [
      "You chose types.\n",
      "https://api.bra.in/thoughts/1c9d0bdb-8e55-43b2-ac53-959e4c2c8864/tags\n",
      "Request was successful\n",
      "{'id': 'cb99bb85-b499-4add-aaa1-67298aa94708', 'brainId': '1c9d0bdb-8e55-43b2-ac53-959e4c2c8864', 'creationDateTime': '2021-02-24T20:03:46.3588701', 'modificationDateTime': '2021-02-24T20:03:46.3588701', 'name': 'Been in it', 'cleanedUpName': 'Been in it', 'acType': 0, 'kind': 4}\n",
      "{'id': '52ecc0a5-e75e-51a8-9ba8-3bcca50a5c4e', 'brainId': '1c9d0bdb-8e55-43b2-ac53-959e4c2c8864', 'creationDateTime': '2016-02-23T23:32:41', 'modificationDateTime': '2020-11-19T16:13:52.4677045', 'name': 'Favorite', 'cleanedUpName': 'Favorite', 'linksModificationDateTime': '2016-02-23T23:33:28', 'acType': 0, 'kind': 4, 'label': 'Fav', 'foregroundColor': '#009000'}\n",
      "{'id': '484a0499-9728-5f45-bb07-90fa28a7c7bd', 'brainId': '1c9d0bdb-8e55-43b2-ac53-959e4c2c8864', 'creationDateTime': '2014-01-29T22:08:42', 'modificationDateTime': '2017-09-21T19:13:09.6038749', 'name': 'Have NOT read it', 'cleanedUpName': 'Have NOT read it', 'linksModificationDateTime': '2014-01-29T22:09:00', 'acType': 0, 'kind': 4, 'label': 'No', 'foregroundColor': '#ff0000'}\n",
      "{'id': '7c02bc29-673f-5670-80ca-1b00f8815401', 'brainId': '1c9d0bdb-8e55-43b2-ac53-959e4c2c8864', 'creationDateTime': '2014-01-29T22:08:15', 'modificationDateTime': '2018-09-26T18:10:27.076316', 'name': 'I have read it', 'cleanedUpName': 'I have read it', 'linksModificationDateTime': '2014-01-29T22:09:22', 'acType': 0, 'kind': 4, 'label': 'Read it', 'foregroundColor': '#606000'}\n",
      "{'id': 'ba6afaf5-5bc0-507f-af0e-abb3d3c5ccf0', 'brainId': '1c9d0bdb-8e55-43b2-ac53-959e4c2c8864', 'creationDateTime': '2012-11-14T21:41:53', 'modificationDateTime': '2018-09-26T18:10:00.9372528', 'name': 'Playing Soon', 'cleanedUpName': 'Playing Soon', 'linksModificationDateTime': '2013-10-03T20:55:43', 'acType': 0, 'kind': 4, 'foregroundColor': '#ff6666'}\n",
      "{'id': 'ce802887-ead3-4907-bf07-609747964c76', 'brainId': '1c9d0bdb-8e55-43b2-ac53-959e4c2c8864', 'creationDateTime': '2023-10-20T18:03:38.3860417', 'modificationDateTime': '2023-10-20T18:03:38.3860417', 'name': 'Thomas Middelton', 'cleanedUpName': 'Thomas Middelton', 'acType': 0, 'kind': 4}\n"
     ]
    }
   ],
   "source": [
    "# List Tags\n",
    "response = get(\"tags\")\n",
    "if process_response(response):\n",
    "    for hit in response.json():\n",
    "        if hit['acType'] != 1:\n",
    "            print(hit)"
   ]
  },
  {
   "cell_type": "code",
   "execution_count": 75,
   "metadata": {},
   "outputs": [
    {
     "name": "stdout",
     "output_type": "stream",
     "text": [
      "You chose search.\n",
      "https://api.bra.in/search/1c9d0bdb-8e55-43b2-ac53-959e4c2c8864?queryText=Brain&maxResults=10&onlySearchThoughtNames=True\n",
      "Request was successful\n",
      "6 results found.\n",
      "\n",
      "{'sourceThought': {'id': 'b5f4b1a1-66fe-5f13-a5af-3051fab79a8e', 'brainId': '1c9d0bdb-8e55-43b2-ac53-959e4c2c8864', 'creationDateTime': '2021-02-20T21:43:36.7902762', 'modificationDateTime': '2021-02-20T21:43:36.7902762', 'name': 'Brain-pan', 'cleanedUpName': 'Brain-pan', 'acType': 0, 'kind': 1}, 'searchResultType': 1, 'isFromOtherBrain': False, 'name': 'Brain-pan', 'attachmentId': '00000000-0000-0000-0000-000000000000', 'brainName': 'TheBard', 'brainId': '1c9d0bdb-8e55-43b2-ac53-959e4c2c8864', 'entityType': 2, 'sourceType': 0}\n",
      "{'id': 'b5f4b1a1-66fe-5f13-a5af-3051fab79a8e', 'brainId': '1c9d0bdb-8e55-43b2-ac53-959e4c2c8864', 'creationDateTime': '2021-02-20T21:43:36.7902762', 'modificationDateTime': '2021-02-20T21:43:36.7902762', 'name': 'Brain-pan', 'cleanedUpName': 'Brain-pan', 'acType': 0, 'kind': 1}\n",
      "{'sourceThought': {'id': '16e8e0ff-ee8f-5ef9-9881-642e288e085c', 'brainId': '1c9d0bdb-8e55-43b2-ac53-959e4c2c8864', 'creationDateTime': '2021-02-20T21:43:35.4228049', 'modificationDateTime': '2021-02-20T21:43:35.4228049', 'name': 'Tickle-brain', 'cleanedUpName': 'Tickle-brain', 'acType': 0, 'kind': 1}, 'searchResultType': 1, 'isFromOtherBrain': False, 'name': 'Tickle-brain', 'attachmentId': '00000000-0000-0000-0000-000000000000', 'brainName': 'TheBard', 'brainId': '1c9d0bdb-8e55-43b2-ac53-959e4c2c8864', 'entityType': 2, 'sourceType': 0}\n",
      "{'id': '16e8e0ff-ee8f-5ef9-9881-642e288e085c', 'brainId': '1c9d0bdb-8e55-43b2-ac53-959e4c2c8864', 'creationDateTime': '2021-02-20T21:43:35.4228049', 'modificationDateTime': '2021-02-20T21:43:35.4228049', 'name': 'Tickle-brain', 'cleanedUpName': 'Tickle-brain', 'acType': 0, 'kind': 1}\n",
      "{'sourceThought': {'id': 'eaafc43b-2027-5a70-8631-0c3b8855d283', 'brainId': '1c9d0bdb-8e55-43b2-ac53-959e4c2c8864', 'creationDateTime': '2021-02-20T21:43:36.8413645', 'modificationDateTime': '2021-02-20T21:43:36.8413645', 'name': 'Bear a brain', 'cleanedUpName': 'Bear a brain', 'acType': 0, 'kind': 1}, 'searchResultType': 1, 'isFromOtherBrain': False, 'name': 'Bear a brain', 'attachmentId': '00000000-0000-0000-0000-000000000000', 'brainName': 'TheBard', 'brainId': '1c9d0bdb-8e55-43b2-ac53-959e4c2c8864', 'entityType': 2, 'sourceType': 0}\n",
      "{'id': 'eaafc43b-2027-5a70-8631-0c3b8855d283', 'brainId': '1c9d0bdb-8e55-43b2-ac53-959e4c2c8864', 'creationDateTime': '2021-02-20T21:43:36.8413645', 'modificationDateTime': '2021-02-20T21:43:36.8413645', 'name': 'Bear a brain', 'cleanedUpName': 'Bear a brain', 'acType': 0, 'kind': 1}\n",
      "{'sourceThought': {'id': '1c2cc2ab-d5b1-55dd-ad3c-181548055a4d', 'brainId': '1c9d0bdb-8e55-43b2-ac53-959e4c2c8864', 'creationDateTime': '2009-08-05T17:56:52', 'modificationDateTime': '2017-02-23T20:46:38.4349261', 'name': \"Jerry's Brain\", 'cleanedUpName': \"Jerry's Brain\", 'linksModificationDateTime': '2009-08-05T17:56:52', 'acType': 0, 'kind': 1}, 'searchResultType': 1, 'isFromOtherBrain': False, 'name': \"Jerry's Brain\", 'attachmentId': '00000000-0000-0000-0000-000000000000', 'brainName': 'TheBard', 'brainId': '1c9d0bdb-8e55-43b2-ac53-959e4c2c8864', 'entityType': 2, 'sourceType': 0}\n",
      "{'id': '1c2cc2ab-d5b1-55dd-ad3c-181548055a4d', 'brainId': '1c9d0bdb-8e55-43b2-ac53-959e4c2c8864', 'creationDateTime': '2009-08-05T17:56:52', 'modificationDateTime': '2017-02-23T20:46:38.4349261', 'name': \"Jerry's Brain\", 'cleanedUpName': \"Jerry's Brain\", 'linksModificationDateTime': '2009-08-05T17:56:52', 'acType': 0, 'kind': 1}\n",
      "{'sourceThought': {'id': '3bbe85d1-326e-51a8-9445-cf1e6380c060', 'brainId': '1c9d0bdb-8e55-43b2-ac53-959e4c2c8864', 'creationDateTime': '2009-07-24T01:31:39', 'modificationDateTime': '2009-07-24T01:31:39', 'name': 'CXXII. Thy gift, thy tables, are within my brain', 'cleanedUpName': 'CXXII. Thy gift, thy tables, are within my brain', 'typeId': '8c1dda5c-0a70-5e1a-a602-4feb00303070', 'linksModificationDateTime': '2015-08-19T22:34:26', 'acType': 0, 'kind': 1}, 'searchResultType': 1, 'isFromOtherBrain': False, 'name': 'CXXII. Thy gift, thy tables, are within my brain', 'attachmentId': '00000000-0000-0000-0000-000000000000', 'brainName': 'TheBard', 'brainId': '1c9d0bdb-8e55-43b2-ac53-959e4c2c8864', 'entityType': 2, 'sourceType': 0}\n",
      "{'id': '3bbe85d1-326e-51a8-9445-cf1e6380c060', 'brainId': '1c9d0bdb-8e55-43b2-ac53-959e4c2c8864', 'creationDateTime': '2009-07-24T01:31:39', 'modificationDateTime': '2009-07-24T01:31:39', 'name': 'CXXII. Thy gift, thy tables, are within my brain', 'cleanedUpName': 'CXXII. Thy gift, thy tables, are within my brain', 'typeId': '8c1dda5c-0a70-5e1a-a602-4feb00303070', 'linksModificationDateTime': '2015-08-19T22:34:26', 'acType': 0, 'kind': 1}\n",
      "{'sourceThought': {'id': 'c8890f86-51b1-52fa-baf0-7f23a693f455', 'brainId': '1c9d0bdb-8e55-43b2-ac53-959e4c2c8864', 'creationDateTime': '2009-07-23T23:31:39', 'modificationDateTime': '2009-07-23T23:31:39', 'name': \"CVIII. What's in the brain that ink may character\", 'cleanedUpName': \"CVIII. What's in the brain that ink may character\", 'typeId': '8c1dda5c-0a70-5e1a-a602-4feb00303070', 'linksModificationDateTime': '2015-08-19T20:34:26', 'acType': 0, 'kind': 1}, 'searchResultType': 1, 'isFromOtherBrain': False, 'name': \"CVIII. What's in the brain that ink may character\", 'attachmentId': '00000000-0000-0000-0000-000000000000', 'brainName': 'TheBard', 'brainId': '1c9d0bdb-8e55-43b2-ac53-959e4c2c8864', 'entityType': 2, 'sourceType': 0}\n",
      "{'id': 'c8890f86-51b1-52fa-baf0-7f23a693f455', 'brainId': '1c9d0bdb-8e55-43b2-ac53-959e4c2c8864', 'creationDateTime': '2009-07-23T23:31:39', 'modificationDateTime': '2009-07-23T23:31:39', 'name': \"CVIII. What's in the brain that ink may character\", 'cleanedUpName': \"CVIII. What's in the brain that ink may character\", 'typeId': '8c1dda5c-0a70-5e1a-a602-4feb00303070', 'linksModificationDateTime': '2015-08-19T20:34:26', 'acType': 0, 'kind': 1}\n"
     ]
    }
   ],
   "source": [
    "#Search\n",
    "response = get(\"search\", search=\"Brain\", results=10, nameOnly=True)\n",
    "if process_response(response):\n",
    "    print(f'{len(response.json())} results found.\\n')\n",
    "    for hit in response.json():\n",
    "        print(hit)\n",
    "        if hit['sourceThought']['acType'] != 1:\n",
    "            print(hit['sourceThought'])"
   ]
  },
  {
   "cell_type": "code",
   "execution_count": 76,
   "metadata": {},
   "outputs": [
    {
     "name": "stdout",
     "output_type": "stream",
     "text": [
      "You chose graph\n",
      "https://api.bra.in/thoughts/1c9d0bdb-8e55-43b2-ac53-959e4c2c8864/af57d1bd-2e52-5c37-9e57-4c85aec40a65/graph\n",
      "Request was successful\n",
      "----activeThought----\n",
      "{'id': 'af57d1bd-2e52-5c37-9e57-4c85aec40a65', 'brainId': '1c9d0bdb-8e55-43b2-ac53-959e4c2c8864', 'creationDateTime': '2009-07-22T22:11:56', 'modificationDateTime': '2021-02-24T21:16:39.9982033', 'name': 'William Shakespeare', 'cleanedUpName': 'William Shakespeare', 'linksModificationDateTime': '2013-04-24T19:06:00', 'acType': 0, 'kind': 1}\n",
      "----parents----\n",
      "[{'id': 'dba7e3fd-d964-4033-85b9-ad86d4da98a1', 'brainId': '1c9d0bdb-8e55-43b2-ac53-959e4c2c8864', 'creationDateTime': '2020-10-01T20:47:32.1181831', 'modificationDateTime': '2023-02-14T18:48:33.4474432', 'name': 'TheBard', 'cleanedUpName': 'TheBard', 'acType': 0, 'kind': 1}]\n",
      "----children----\n",
      "[{'id': 'a173933f-4b0e-5527-9219-d4d729760407', 'brainId': '1c9d0bdb-8e55-43b2-ac53-959e4c2c8864', 'creationDateTime': '2009-07-22T18:12:35', 'modificationDateTime': '2023-02-14T14:37:02.3708848', 'name': 'Resources', 'cleanedUpName': 'Resources', 'linksModificationDateTime': '2016-02-23T19:31:22.876', 'acType': 0, 'kind': 1}, {'id': '4b8def66-64a4-5551-8d36-8f0d9a24e3e5', 'brainId': '1c9d0bdb-8e55-43b2-ac53-959e4c2c8864', 'creationDateTime': '2009-07-22T20:12:35', 'modificationDateTime': '2019-04-03T16:55:44.9526266', 'name': 'Games', 'cleanedUpName': 'Games', 'linksModificationDateTime': '2012-09-19T15:02:52', 'acType': 0, 'kind': 1}, {'id': 'b808238f-e541-565c-b361-633aa4b8dc43', 'brainId': '1c9d0bdb-8e55-43b2-ac53-959e4c2c8864', 'creationDateTime': '2009-07-22T20:12:35', 'modificationDateTime': '2022-03-02T19:50:27.6349868', 'name': 'Literature', 'cleanedUpName': 'Literature', 'linksModificationDateTime': '2016-02-22T23:30:53.455', 'acType': 0, 'kind': 1}, {'id': '0c542d76-94c6-5ce1-993e-ad21cd4b2e7d', 'brainId': '1c9d0bdb-8e55-43b2-ac53-959e4c2c8864', 'creationDateTime': '2009-07-22T20:12:35', 'modificationDateTime': '2021-08-19T16:03:25.5932445', 'name': 'Movie', 'cleanedUpName': 'Movie', 'typeId': '7e2c83b3-cafb-5ca2-9528-1f0f81e78ba6', 'linksModificationDateTime': '2013-04-24T21:08:51', 'acType': 0, 'kind': 1}]\n",
      "----jumps----\n",
      "[{'id': '898388ea-4a61-4a1f-8491-de18cbf3004b', 'brainId': '1c9d0bdb-8e55-43b2-ac53-959e4c2c8864', 'creationDateTime': '2021-10-12T15:22:20.0799404', 'modificationDateTime': '2023-03-22T18:40:20.0913706', 'name': 'My Book', 'cleanedUpName': 'My Book', 'acType': 0, 'kind': 1}, {'id': 'f8dd2d73-a03e-5f4b-b827-6a442fb09100', 'brainId': '1c9d0bdb-8e55-43b2-ac53-959e4c2c8864', 'creationDateTime': '2009-07-24T00:16:28', 'modificationDateTime': '2019-04-03T21:32:57.2510565', 'name': 'My Favorites', 'cleanedUpName': 'My Favorites', 'linksModificationDateTime': '2009-07-24T00:19:03', 'acType': 0, 'kind': 1}]\n",
      "----tags----\n",
      "[]\n",
      "----links----\n",
      "[{'id': 'fa7bba63-c13f-5cf9-9a8f-d1e1ff247b62', 'brainId': '1c9d0bdb-8e55-43b2-ac53-959e4c2c8864', 'creationDateTime': '2020-10-01T20:48:08.3815234', 'modificationDateTime': '2020-10-01T20:48:08.3815234', 'kind': 1, 'thickness': -1, 'thoughtIdA': 'dba7e3fd-d964-4033-85b9-ad86d4da98a1', 'thoughtIdB': 'af57d1bd-2e52-5c37-9e57-4c85aec40a65', 'relation': 1, 'direction': -1, 'meaning': 1}, {'id': 'c1d61eec-4610-5c5c-bdea-4822b49b5282', 'brainId': '1c9d0bdb-8e55-43b2-ac53-959e4c2c8864', 'creationDateTime': '2009-07-22T18:12:35', 'modificationDateTime': '2009-07-22T18:12:35', 'typeId': '00000000-0000-0000-0000-000000000000', 'kind': 1, 'thickness': -1, 'thoughtIdA': 'af57d1bd-2e52-5c37-9e57-4c85aec40a65', 'thoughtIdB': 'a173933f-4b0e-5527-9219-d4d729760407', 'relation': 1, 'direction': -1, 'meaning': 1}, {'id': '54a0fe2a-a3b0-4775-9f14-8e88fbd9f594', 'brainId': '1c9d0bdb-8e55-43b2-ac53-959e4c2c8864', 'creationDateTime': '2021-10-12T15:22:20.0860829', 'modificationDateTime': '2021-10-12T15:22:20.0860829', 'kind': 1, 'thickness': -1, 'thoughtIdA': 'af57d1bd-2e52-5c37-9e57-4c85aec40a65', 'thoughtIdB': '898388ea-4a61-4a1f-8491-de18cbf3004b', 'relation': 3, 'direction': -1, 'meaning': 1}, {'id': 'd4cb720d-150c-574b-a037-25d8aec0060d', 'brainId': '1c9d0bdb-8e55-43b2-ac53-959e4c2c8864', 'creationDateTime': '2009-07-22T18:12:35', 'modificationDateTime': '2019-04-03T21:32:03.3114572', 'typeId': '00000000-0000-0000-0000-000000000000', 'kind': 1, 'thickness': -1, 'thoughtIdA': 'af57d1bd-2e52-5c37-9e57-4c85aec40a65', 'thoughtIdB': '4b8def66-64a4-5551-8d36-8f0d9a24e3e5', 'relation': 1, 'direction': -1, 'meaning': 1}, {'id': '2151b439-3f28-5562-b748-20df97df1b46', 'brainId': '1c9d0bdb-8e55-43b2-ac53-959e4c2c8864', 'creationDateTime': '2009-07-23T22:16:28', 'modificationDateTime': '2009-07-23T22:16:28', 'typeId': '00000000-0000-0000-0000-000000000000', 'kind': 1, 'thickness': -1, 'thoughtIdA': 'af57d1bd-2e52-5c37-9e57-4c85aec40a65', 'thoughtIdB': 'f8dd2d73-a03e-5f4b-b827-6a442fb09100', 'relation': 3, 'direction': -1, 'meaning': 1}, {'id': '931eb35e-2d9e-516f-80c4-600b2fed324e', 'brainId': '1c9d0bdb-8e55-43b2-ac53-959e4c2c8864', 'creationDateTime': '2009-07-22T18:12:35', 'modificationDateTime': '2009-07-22T18:12:35', 'typeId': '00000000-0000-0000-0000-000000000000', 'kind': 1, 'thickness': -1, 'thoughtIdA': 'af57d1bd-2e52-5c37-9e57-4c85aec40a65', 'thoughtIdB': 'b808238f-e541-565c-b361-633aa4b8dc43', 'relation': 1, 'direction': -1, 'meaning': 1}, {'id': 'a8cff0d7-e29b-58fa-8d0c-236fc46ca3d4', 'brainId': '1c9d0bdb-8e55-43b2-ac53-959e4c2c8864', 'creationDateTime': '2009-07-22T18:12:35', 'modificationDateTime': '2009-07-22T18:12:35', 'typeId': '00000000-0000-0000-0000-000000000000', 'kind': 1, 'thickness': -1, 'thoughtIdA': 'af57d1bd-2e52-5c37-9e57-4c85aec40a65', 'thoughtIdB': '0c542d76-94c6-5ce1-993e-ad21cd4b2e7d', 'relation': 1, 'direction': -1, 'meaning': 1}]\n",
      "----attachments----\n",
      "[{'id': 'e2734ff7-48b0-4c51-bae4-319a3bd67e48', 'brainId': '1c9d0bdb-8e55-43b2-ac53-959e4c2c8864', 'sourceId': 'af57d1bd-2e52-5c37-9e57-4c85aec40a65', 'sourceType': 2, 'creationDateTime': '2021-02-24T20:01:07.3268572', 'modificationDateTime': '2021-02-24T20:01:07.3268572', 'position': 0, 'fileModificationDateTime': '2019-04-03T18:09:58.5988595', 'type': 12, 'isNotes': False, 'dataLength': 2113260, 'location': 'e2734ff7-48b0-4c51-bae4-319a3bd67e48.png'}, {'id': '3190d968-7b01-51fa-860e-45afce111dea', 'brainId': '1c9d0bdb-8e55-43b2-ac53-959e4c2c8864', 'sourceId': 'af57d1bd-2e52-5c37-9e57-4c85aec40a65', 'sourceType': 2, 'creationDateTime': '2019-04-03T18:09:58.7018651', 'modificationDateTime': '2019-04-03T18:09:58.7018651', 'position': 0, 'fileModificationDateTime': '2019-04-03T18:09:58.5988595', 'type': 6, 'isNotes': False, 'dataLength': 2113260, 'location': '7f7c8c5b-3acd-4a4a-b425-e4ab1a0d8acc.png'}, {'id': '60430640-bece-5821-a669-ccd41689dcc7', 'brainId': '1c9d0bdb-8e55-43b2-ac53-959e4c2c8864', 'sourceId': 'af57d1bd-2e52-5c37-9e57-4c85aec40a65', 'sourceType': 2, 'creationDateTime': '2019-04-03T16:51:14.6185699', 'modificationDateTime': '2019-04-03T16:51:14.6185699', 'position': 0, 'fileModificationDateTime': '2019-04-03T16:51:12.1879446', 'type': 5, 'isNotes': False, 'dataLength': 294883, 'location': 'Icon.png'}, {'id': 'd8e7752f-2e64-5825-8658-0f809e482cec', 'brainId': '1c9d0bdb-8e55-43b2-ac53-959e4c2c8864', 'sourceId': 'af57d1bd-2e52-5c37-9e57-4c85aec40a65', 'sourceType': 2, 'creationDateTime': '2017-02-23T20:45:59.8746064', 'modificationDateTime': '2023-02-03T22:10:01.5708378', 'position': 0, 'fileModificationDateTime': '2023-02-03T22:10:01.5607727', 'type': 5, 'isNotes': False, 'dataLength': 294883, 'location': 'Icon.png'}, {'id': '79db5b66-caff-4cab-9e45-c88435afd58f', 'brainId': '1c9d0bdb-8e55-43b2-ac53-959e4c2c8864', 'sourceId': 'af57d1bd-2e52-5c37-9e57-4c85aec40a65', 'sourceType': 2, 'creationDateTime': '2021-02-24T20:01:07.3468566', 'modificationDateTime': '2023-07-26T16:32:14.1383529', 'position': 0, 'fileModificationDateTime': '2023-07-26T16:32:14.1363001', 'type': 1, 'isNotes': True, 'dataLength': 458, 'location': 'Notes.md'}, {'id': '2fc327d0-81a7-52b1-bc20-f874e2c48308', 'brainId': '1c9d0bdb-8e55-43b2-ac53-959e4c2c8864', 'sourceId': 'af57d1bd-2e52-5c37-9e57-4c85aec40a65', 'sourceType': 2, 'creationDateTime': '2009-07-23T21:41:36', 'modificationDateTime': '2019-09-26T17:43:15.4020529', 'position': 0, 'fileModificationDateTime': '2019-09-26T17:43:15.4010527', 'type': 4, 'isNotes': True, 'dataLength': 419, 'location': 'notes.html'}]\n",
      "{'activeThought': {'id': 'af57d1bd-2e52-5c37-9e57-4c85aec40a65', 'brainId': '1c9d0bdb-8e55-43b2-ac53-959e4c2c8864', 'creationDateTime': '2009-07-22T22:11:56', 'modificationDateTime': '2021-02-24T21:16:39.9982033', 'name': 'William Shakespeare', 'cleanedUpName': 'William Shakespeare', 'linksModificationDateTime': '2013-04-24T19:06:00', 'acType': 0, 'kind': 1}, 'parents': [{'id': 'dba7e3fd-d964-4033-85b9-ad86d4da98a1', 'brainId': '1c9d0bdb-8e55-43b2-ac53-959e4c2c8864', 'creationDateTime': '2020-10-01T20:47:32.1181831', 'modificationDateTime': '2023-02-14T18:48:33.4474432', 'name': 'TheBard', 'cleanedUpName': 'TheBard', 'acType': 0, 'kind': 1}], 'children': [{'id': 'a173933f-4b0e-5527-9219-d4d729760407', 'brainId': '1c9d0bdb-8e55-43b2-ac53-959e4c2c8864', 'creationDateTime': '2009-07-22T18:12:35', 'modificationDateTime': '2023-02-14T14:37:02.3708848', 'name': 'Resources', 'cleanedUpName': 'Resources', 'linksModificationDateTime': '2016-02-23T19:31:22.876', 'acType': 0, 'kind': 1}, {'id': '4b8def66-64a4-5551-8d36-8f0d9a24e3e5', 'brainId': '1c9d0bdb-8e55-43b2-ac53-959e4c2c8864', 'creationDateTime': '2009-07-22T20:12:35', 'modificationDateTime': '2019-04-03T16:55:44.9526266', 'name': 'Games', 'cleanedUpName': 'Games', 'linksModificationDateTime': '2012-09-19T15:02:52', 'acType': 0, 'kind': 1}, {'id': 'b808238f-e541-565c-b361-633aa4b8dc43', 'brainId': '1c9d0bdb-8e55-43b2-ac53-959e4c2c8864', 'creationDateTime': '2009-07-22T20:12:35', 'modificationDateTime': '2022-03-02T19:50:27.6349868', 'name': 'Literature', 'cleanedUpName': 'Literature', 'linksModificationDateTime': '2016-02-22T23:30:53.455', 'acType': 0, 'kind': 1}, {'id': '0c542d76-94c6-5ce1-993e-ad21cd4b2e7d', 'brainId': '1c9d0bdb-8e55-43b2-ac53-959e4c2c8864', 'creationDateTime': '2009-07-22T20:12:35', 'modificationDateTime': '2021-08-19T16:03:25.5932445', 'name': 'Movie', 'cleanedUpName': 'Movie', 'typeId': '7e2c83b3-cafb-5ca2-9528-1f0f81e78ba6', 'linksModificationDateTime': '2013-04-24T21:08:51', 'acType': 0, 'kind': 1}], 'jumps': [{'id': '898388ea-4a61-4a1f-8491-de18cbf3004b', 'brainId': '1c9d0bdb-8e55-43b2-ac53-959e4c2c8864', 'creationDateTime': '2021-10-12T15:22:20.0799404', 'modificationDateTime': '2023-03-22T18:40:20.0913706', 'name': 'My Book', 'cleanedUpName': 'My Book', 'acType': 0, 'kind': 1}, {'id': 'f8dd2d73-a03e-5f4b-b827-6a442fb09100', 'brainId': '1c9d0bdb-8e55-43b2-ac53-959e4c2c8864', 'creationDateTime': '2009-07-24T00:16:28', 'modificationDateTime': '2019-04-03T21:32:57.2510565', 'name': 'My Favorites', 'cleanedUpName': 'My Favorites', 'linksModificationDateTime': '2009-07-24T00:19:03', 'acType': 0, 'kind': 1}], 'tags': [], 'links': [{'id': 'fa7bba63-c13f-5cf9-9a8f-d1e1ff247b62', 'brainId': '1c9d0bdb-8e55-43b2-ac53-959e4c2c8864', 'creationDateTime': '2020-10-01T20:48:08.3815234', 'modificationDateTime': '2020-10-01T20:48:08.3815234', 'kind': 1, 'thickness': -1, 'thoughtIdA': 'dba7e3fd-d964-4033-85b9-ad86d4da98a1', 'thoughtIdB': 'af57d1bd-2e52-5c37-9e57-4c85aec40a65', 'relation': 1, 'direction': -1, 'meaning': 1}, {'id': 'c1d61eec-4610-5c5c-bdea-4822b49b5282', 'brainId': '1c9d0bdb-8e55-43b2-ac53-959e4c2c8864', 'creationDateTime': '2009-07-22T18:12:35', 'modificationDateTime': '2009-07-22T18:12:35', 'typeId': '00000000-0000-0000-0000-000000000000', 'kind': 1, 'thickness': -1, 'thoughtIdA': 'af57d1bd-2e52-5c37-9e57-4c85aec40a65', 'thoughtIdB': 'a173933f-4b0e-5527-9219-d4d729760407', 'relation': 1, 'direction': -1, 'meaning': 1}, {'id': '54a0fe2a-a3b0-4775-9f14-8e88fbd9f594', 'brainId': '1c9d0bdb-8e55-43b2-ac53-959e4c2c8864', 'creationDateTime': '2021-10-12T15:22:20.0860829', 'modificationDateTime': '2021-10-12T15:22:20.0860829', 'kind': 1, 'thickness': -1, 'thoughtIdA': 'af57d1bd-2e52-5c37-9e57-4c85aec40a65', 'thoughtIdB': '898388ea-4a61-4a1f-8491-de18cbf3004b', 'relation': 3, 'direction': -1, 'meaning': 1}, {'id': 'd4cb720d-150c-574b-a037-25d8aec0060d', 'brainId': '1c9d0bdb-8e55-43b2-ac53-959e4c2c8864', 'creationDateTime': '2009-07-22T18:12:35', 'modificationDateTime': '2019-04-03T21:32:03.3114572', 'typeId': '00000000-0000-0000-0000-000000000000', 'kind': 1, 'thickness': -1, 'thoughtIdA': 'af57d1bd-2e52-5c37-9e57-4c85aec40a65', 'thoughtIdB': '4b8def66-64a4-5551-8d36-8f0d9a24e3e5', 'relation': 1, 'direction': -1, 'meaning': 1}, {'id': '2151b439-3f28-5562-b748-20df97df1b46', 'brainId': '1c9d0bdb-8e55-43b2-ac53-959e4c2c8864', 'creationDateTime': '2009-07-23T22:16:28', 'modificationDateTime': '2009-07-23T22:16:28', 'typeId': '00000000-0000-0000-0000-000000000000', 'kind': 1, 'thickness': -1, 'thoughtIdA': 'af57d1bd-2e52-5c37-9e57-4c85aec40a65', 'thoughtIdB': 'f8dd2d73-a03e-5f4b-b827-6a442fb09100', 'relation': 3, 'direction': -1, 'meaning': 1}, {'id': '931eb35e-2d9e-516f-80c4-600b2fed324e', 'brainId': '1c9d0bdb-8e55-43b2-ac53-959e4c2c8864', 'creationDateTime': '2009-07-22T18:12:35', 'modificationDateTime': '2009-07-22T18:12:35', 'typeId': '00000000-0000-0000-0000-000000000000', 'kind': 1, 'thickness': -1, 'thoughtIdA': 'af57d1bd-2e52-5c37-9e57-4c85aec40a65', 'thoughtIdB': 'b808238f-e541-565c-b361-633aa4b8dc43', 'relation': 1, 'direction': -1, 'meaning': 1}, {'id': 'a8cff0d7-e29b-58fa-8d0c-236fc46ca3d4', 'brainId': '1c9d0bdb-8e55-43b2-ac53-959e4c2c8864', 'creationDateTime': '2009-07-22T18:12:35', 'modificationDateTime': '2009-07-22T18:12:35', 'typeId': '00000000-0000-0000-0000-000000000000', 'kind': 1, 'thickness': -1, 'thoughtIdA': 'af57d1bd-2e52-5c37-9e57-4c85aec40a65', 'thoughtIdB': '0c542d76-94c6-5ce1-993e-ad21cd4b2e7d', 'relation': 1, 'direction': -1, 'meaning': 1}], 'attachments': [{'id': 'e2734ff7-48b0-4c51-bae4-319a3bd67e48', 'brainId': '1c9d0bdb-8e55-43b2-ac53-959e4c2c8864', 'sourceId': 'af57d1bd-2e52-5c37-9e57-4c85aec40a65', 'sourceType': 2, 'creationDateTime': '2021-02-24T20:01:07.3268572', 'modificationDateTime': '2021-02-24T20:01:07.3268572', 'position': 0, 'fileModificationDateTime': '2019-04-03T18:09:58.5988595', 'type': 12, 'isNotes': False, 'dataLength': 2113260, 'location': 'e2734ff7-48b0-4c51-bae4-319a3bd67e48.png'}, {'id': '3190d968-7b01-51fa-860e-45afce111dea', 'brainId': '1c9d0bdb-8e55-43b2-ac53-959e4c2c8864', 'sourceId': 'af57d1bd-2e52-5c37-9e57-4c85aec40a65', 'sourceType': 2, 'creationDateTime': '2019-04-03T18:09:58.7018651', 'modificationDateTime': '2019-04-03T18:09:58.7018651', 'position': 0, 'fileModificationDateTime': '2019-04-03T18:09:58.5988595', 'type': 6, 'isNotes': False, 'dataLength': 2113260, 'location': '7f7c8c5b-3acd-4a4a-b425-e4ab1a0d8acc.png'}, {'id': '60430640-bece-5821-a669-ccd41689dcc7', 'brainId': '1c9d0bdb-8e55-43b2-ac53-959e4c2c8864', 'sourceId': 'af57d1bd-2e52-5c37-9e57-4c85aec40a65', 'sourceType': 2, 'creationDateTime': '2019-04-03T16:51:14.6185699', 'modificationDateTime': '2019-04-03T16:51:14.6185699', 'position': 0, 'fileModificationDateTime': '2019-04-03T16:51:12.1879446', 'type': 5, 'isNotes': False, 'dataLength': 294883, 'location': 'Icon.png'}, {'id': 'd8e7752f-2e64-5825-8658-0f809e482cec', 'brainId': '1c9d0bdb-8e55-43b2-ac53-959e4c2c8864', 'sourceId': 'af57d1bd-2e52-5c37-9e57-4c85aec40a65', 'sourceType': 2, 'creationDateTime': '2017-02-23T20:45:59.8746064', 'modificationDateTime': '2023-02-03T22:10:01.5708378', 'position': 0, 'fileModificationDateTime': '2023-02-03T22:10:01.5607727', 'type': 5, 'isNotes': False, 'dataLength': 294883, 'location': 'Icon.png'}, {'id': '79db5b66-caff-4cab-9e45-c88435afd58f', 'brainId': '1c9d0bdb-8e55-43b2-ac53-959e4c2c8864', 'sourceId': 'af57d1bd-2e52-5c37-9e57-4c85aec40a65', 'sourceType': 2, 'creationDateTime': '2021-02-24T20:01:07.3468566', 'modificationDateTime': '2023-07-26T16:32:14.1383529', 'position': 0, 'fileModificationDateTime': '2023-07-26T16:32:14.1363001', 'type': 1, 'isNotes': True, 'dataLength': 458, 'location': 'Notes.md'}, {'id': '2fc327d0-81a7-52b1-bc20-f874e2c48308', 'brainId': '1c9d0bdb-8e55-43b2-ac53-959e4c2c8864', 'sourceId': 'af57d1bd-2e52-5c37-9e57-4c85aec40a65', 'sourceType': 2, 'creationDateTime': '2009-07-23T21:41:36', 'modificationDateTime': '2019-09-26T17:43:15.4020529', 'position': 0, 'fileModificationDateTime': '2019-09-26T17:43:15.4010527', 'type': 4, 'isNotes': True, 'dataLength': 419, 'location': 'notes.html'}]}\n"
     ]
    }
   ],
   "source": [
    "#Graph\n",
    "response = get(\"graph\", target='af57d1bd-2e52-5c37-9e57-4c85aec40a65')\n",
    "if process_response(response):\n",
    "    for item in response.json():\n",
    "        print(f'----{item}----')\n",
    "        if type(item) == list:\n",
    "            for hit in item:\n",
    "                print(hit)\n",
    "        else:\n",
    "            print(response.json()[item])\n",
    "    print(response.json())"
   ]
  },
  {
   "cell_type": "code",
   "execution_count": 77,
   "metadata": {},
   "outputs": [
    {
     "name": "stdout",
     "output_type": "stream",
     "text": [
      "You chose Get Named Item\n",
      "https://api.bra.in/thoughts/1c9d0bdb-8e55-43b2-ac53-959e4c2c8864?nameExact=The%20Tempest\n",
      "Request was successful\n",
      "{'id': 'e211b703-3162-56bc-8c58-ceb96d4a118b', 'brainId': '1c9d0bdb-8e55-43b2-ac53-959e4c2c8864', 'creationDateTime': '2009-07-23T21:58:31', 'modificationDateTime': '2017-02-23T20:46:37.8247704', 'name': 'The Tempest', 'cleanedUpName': 'The Tempest', 'typeId': '7e2c83b3-cafb-5ca2-9528-1f0f81e78ba6', 'linksModificationDateTime': '2009-07-29T19:59:28', 'acType': 0, 'kind': 1}\n"
     ]
    }
   ],
   "source": [
    "#Name Exact\n",
    "response = get(\"getNamedItem\", search='The Tempest')\n",
    "if process_response(response):\n",
    "    print(response.json())"
   ]
  }
 ],
 "metadata": {
  "kernelspec": {
   "display_name": "Python 3",
   "language": "python",
   "name": "python3"
  },
  "language_info": {
   "codemirror_mode": {
    "name": "ipython",
    "version": 3
   },
   "file_extension": ".py",
   "mimetype": "text/x-python",
   "name": "python",
   "nbconvert_exporter": "python",
   "pygments_lexer": "ipython3",
   "version": "3.11.5"
  }
 },
 "nbformat": 4,
 "nbformat_minor": 2
}
